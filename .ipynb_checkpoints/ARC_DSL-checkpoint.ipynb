{
 "cells": [
  {
   "cell_type": "code",
   "execution_count": 1,
   "metadata": {},
   "outputs": [],
   "source": [
    "import warnings\n",
    "warnings.filterwarnings('ignore')\n",
    "\n",
    "import os\n",
    "import sys\n",
    "import time\n",
    "import json\n",
    "import random\n",
    "import numpy as np\n",
    "import pandas as pd\n",
    "import itertools\n",
    "import scipy\n",
    "import gc\n",
    "\n",
    "from pathlib import Path\n",
    "import matplotlib.pyplot as plt\n",
    "from matplotlib import colors as colors_mat\n",
    "from scipy.ndimage import label, generate_binary_structure\n",
    "from numpy.lib.stride_tricks import as_strided\n",
    "from itertools import product\n",
    "from scipy.spatial.distance import cdist\n",
    "from scipy.signal import convolve2d\n",
    "from collections import Counter"
   ]
  },
  {
   "cell_type": "code",
   "execution_count": 5,
   "metadata": {},
   "outputs": [
    {
     "name": "stdout",
     "output_type": "stream",
     "text": [
      "Load Initial Data ...\n",
      "--- 0.014918088912963867 seconds ---\n"
     ]
    }
   ],
   "source": [
    "start_time = time.time()\n",
    "print(\"Load Initial Data ...\")\n",
    "\n",
    "data_path = Path('')\n",
    "training_path = data_path / 'training'\n",
    "evaluation_path = data_path / 'evaluation'\n",
    "testing_path = data_path / 'test'\n",
    "\n",
    "training_tasks = sorted(os.listdir(training_path))\n",
    "evaluation_tasks = sorted(os.listdir(evaluation_path))\n",
    "testing_tasks = sorted(os.listdir(testing_path))\n",
    "submission = pd.read_csv(data_path / 'sample_submission.csv', index_col='output_id')\n",
    "\n",
    "print(\"--- %s seconds ---\" % (time.time() - start_time))"
   ]
  },
  {
   "cell_type": "code",
   "execution_count": 85,
   "metadata": {},
   "outputs": [
    {
     "name": "stdout",
     "output_type": "stream",
     "text": [
      "Load Data Functions ...\n",
      "--- 0.000598907470703125 seconds ---\n"
     ]
    }
   ],
   "source": [
    "start_time = time.time()\n",
    "print(\"Load Data Functions ...\")\n",
    "\n",
    "def flattener(pred):\n",
    "    \n",
    "    str_pred = str([row for row in pred.tolist()])\n",
    "    str_pred = str_pred.replace(', ', '')\n",
    "    str_pred = str_pred.replace('[[', '|')\n",
    "    str_pred = str_pred.replace('][', '|')\n",
    "    str_pred = str_pred.replace(']]', '|')\n",
    "    \n",
    "    return str_pred\n",
    "\n",
    "def load_data(p, phase=None):\n",
    "    \n",
    "    if phase in {'training', 'test', 'evaluation'}:\n",
    "        p = data_path / phase / p\n",
    "    \n",
    "    task = json.loads(Path(p).read_text())\n",
    "    dict_vals_to_np = lambda x: { k : np.array(v) for k, v in x.items() }\n",
    "    assert set(task) == {'test', 'train'}\n",
    "    res = dict(test=[], train=[])\n",
    "    \n",
    "    for t in task['train']:\n",
    "        assert set(t) == {'input', 'output'}\n",
    "        res['train'].append(dict_vals_to_np(t))\n",
    "    for t in task['test']:\n",
    "        res['test'].append(dict_vals_to_np(t))\n",
    "        \n",
    "    return res\n",
    "\n",
    "print(\"--- %s seconds ---\" % (time.time() - start_time))"
   ]
  },
  {
   "cell_type": "code",
   "execution_count": 86,
   "metadata": {},
   "outputs": [
    {
     "name": "stdout",
     "output_type": "stream",
     "text": [
      "Load Data Files ...\n",
      "--- 0.49495887756347656 seconds ---\n"
     ]
    }
   ],
   "source": [
    "start_time = time.time()\n",
    "print(\"Load Data Files ...\")\n",
    "\n",
    "train_task_data = []\n",
    "for i in range(0, 400):\n",
    "    task = load_data(training_tasks[i], phase='training')\n",
    "    list.append(train_task_data, task)\n",
    "\n",
    "eval_task_data = []\n",
    "for i in range(0, 400):\n",
    "    task = load_data(evaluation_tasks[i], phase='evaluation')\n",
    "    list.append(eval_task_data, task)\n",
    "\n",
    "test_task_data = []\n",
    "for i in range(0, 100):\n",
    "    task = load_data(testing_tasks[i], phase='test')\n",
    "    list.append(test_task_data, task)\n",
    "    \n",
    "print(\"--- %s seconds ---\" % (time.time() - start_time))"
   ]
  },
  {
   "cell_type": "code",
   "execution_count": 87,
   "metadata": {},
   "outputs": [
    {
     "name": "stdout",
     "output_type": "stream",
     "text": [
      "Load DSL Checking Function\n",
      "--- 0.0009870529174804688 seconds ---\n"
     ]
    }
   ],
   "source": [
    "start_time = time.time()\n",
    "print(\"Load DSL Checking Function\")\n",
    "\n",
    "cmap = colors_mat.ListedColormap(\n",
    "    ['#000000', '#0074D9','#FF4136','#2ECC40','#FFDC00',\n",
    "     '#AAAAAA', '#F012BE', '#FF851B', '#7FDBFF', '#870C25'])\n",
    "norm = colors_mat.Normalize(vmin=0, vmax=9)\n",
    "num2color = [\"black\", \"blue\", \"red\", \"green\", \"yellow\", \"gray\", \"magenta\", \"orange\", \"sky\", \"brown\"]\n",
    "color2num = {c: n for n, c in enumerate(num2color)}\n",
    "\n",
    "def check_p(task, pred_func):\n",
    "    \n",
    "    fig_num = 0\n",
    "    n = len(task[\"train\"]) + len(task[\"test\"])\n",
    "    fig, axs = plt.subplots(3, n, figsize=(4*n,12), dpi=50)\n",
    "    plt.subplots_adjust(wspace=0.3, hspace=0.3)\n",
    "    \n",
    "    for i, t in enumerate(task[\"train\"]):\n",
    "        t_in, t_out = np.array(t[\"input\"]).astype('uint8'), np.array(t[\"output\"]).astype('uint8')   \n",
    "        \n",
    "        features = {}            \n",
    "        t_pred = pred_func(t_in, features)    \n",
    "\n",
    "        axs[0][fig_num].imshow(t_in, cmap=cmap, norm=norm)\n",
    "        axs[0][fig_num].set_title(f'Train-{i} in')\n",
    "        axs[0][fig_num].set_yticks(list(range(t_in.shape[0])))\n",
    "        axs[0][fig_num].set_xticks(list(range(t_in.shape[1])))\n",
    "        axs[1][fig_num].imshow(t_out, cmap=cmap, norm=norm)\n",
    "        axs[1][fig_num].set_title(f'Train-{i} out')\n",
    "        axs[1][fig_num].set_yticks(list(range(t_out.shape[0])))\n",
    "        axs[1][fig_num].set_xticks(list(range(t_out.shape[1])))\n",
    "        axs[2][fig_num].imshow(t_pred, cmap=cmap, norm=norm)\n",
    "        axs[2][fig_num].set_title(f'Train-{i} pred')\n",
    "        axs[2][fig_num].set_yticks(list(range(t_pred.shape[0])))\n",
    "        axs[2][fig_num].set_xticks(list(range(t_pred.shape[1])))\n",
    "        fig_num += 1\n",
    "        \n",
    "    for i, t in enumerate(task[\"test\"]):\n",
    "        t_in, t_out = np.array(t[\"input\"]).astype('uint8'), np.array(t[\"output\"]).astype('uint8')\n",
    "\n",
    "        features = {}            \n",
    "        t_pred = pred_func(t_in, features)    \n",
    "        \n",
    "        axs[0][fig_num].imshow(t_in, cmap=cmap, norm=norm)\n",
    "        axs[0][fig_num].set_title(f'Test-{i} in')\n",
    "        axs[0][fig_num].set_yticks(list(range(t_in.shape[0])))\n",
    "        axs[0][fig_num].set_xticks(list(range(t_in.shape[1])))\n",
    "        axs[1][fig_num].imshow(t_out, cmap=cmap, norm=norm)\n",
    "        axs[1][fig_num].set_title(f'Test-{i} out')\n",
    "        axs[1][fig_num].set_yticks(list(range(t_out.shape[0])))\n",
    "        axs[1][fig_num].set_xticks(list(range(t_out.shape[1])))\n",
    "        axs[2][fig_num].imshow(t_pred, cmap=cmap, norm=norm)\n",
    "        axs[2][fig_num].set_title(f'Test-{i} pred')\n",
    "        axs[2][fig_num].set_yticks(list(range(t_pred.shape[0])))\n",
    "        axs[2][fig_num].set_xticks(list(range(t_pred.shape[1])))\n",
    "        fig_num += 1\n",
    "\n",
    "print(\"--- %s seconds ---\" % (time.time() - start_time))"
   ]
  },
  {
   "cell_type": "code",
   "execution_count": 88,
   "metadata": {},
   "outputs": [
    {
     "name": "stdout",
     "output_type": "stream",
     "text": [
      "Load DSL Helper Functions (Main)\n",
      "--- 0.0008678436279296875 seconds ---\n"
     ]
    }
   ],
   "source": [
    "start_time = time.time()\n",
    "print(\"Load DSL Helper Functions (Main)\")\n",
    "\n",
    "def get_neighbors(task, i, j):\n",
    "    \n",
    "    nbh = lambda x, i, j: { \n",
    "        (ip, jp) : x[i+ip, j+jp] \n",
    "            for ip, jp in product([1, -1, 0], repeat=2) \n",
    "                if 0 <= i+ip < x.shape[0] and 0 <= j+jp < x.shape[1]\n",
    "    }\n",
    "    \n",
    "    return nbh(task, i, j)\n",
    "\n",
    "def get_background_color(task):\n",
    "    \n",
    "    background_color = 0\n",
    "    cnt = np.bincount(task.flatten())[1:]\n",
    "    bg_color = [i + 1 for i, x in enumerate(cnt) if x == max(cnt)][0]\n",
    "    if np.nonzero(cnt)[0].shape[0] >= 2:\n",
    "        if max(cnt) >= (task.shape[0] * task.shape[1] * 0.25):\n",
    "            background_color = bg_color\n",
    "\n",
    "    return background_color\n",
    "            \n",
    "print(\"--- %s seconds ---\" % (time.time() - start_time))"
   ]
  },
  {
   "cell_type": "code",
   "execution_count": 135,
   "metadata": {},
   "outputs": [
    {
     "name": "stdout",
     "output_type": "stream",
     "text": [
      "Load DSL Helper Functions (Objects)\n",
      "--- 0.0004830360412597656 seconds ---\n"
     ]
    }
   ],
   "source": [
    "start_time = time.time()\n",
    "print(\"Load DSL Helper Functions (Objects)\")\n",
    "\n",
    "# Get Attributes of Object\n",
    "def object_attributes(object_data):\n",
    "    \n",
    "    # Simple Attributes of Shape\n",
    "    object_data['shape_0'] = object_data['obj'].shape[0]\n",
    "    object_data['shape_1'] = object_data['obj'].shape[1]\n",
    "    object_data['area'] = object_data['obj'].shape[0] \n",
    "    object_data['colors'] = np.unique(object_data['obj']) \n",
    "    \n",
    "    return object_data\n",
    "\n",
    "# Get Attributes of Object Relative to Other Objects\n",
    "def object_relative_attributes(object_data, object_list):\n",
    "\n",
    "    # Comparison of Size (x/y) to Other Objects\n",
    "    shape_0ranks = sorted([obj['shape_0'] for obj in object_list])\n",
    "    shape_1ranks = sorted([obj['shape_1'] for obj in object_list])\n",
    "    object_data['shape_0rank'] = shape_0ranks.index(object_data['shape_0']) + 1\n",
    "    object_data['shape_1rank'] = shape_1ranks.index(object_data['shape_1']) + 1\n",
    "\n",
    "    return object_data\n",
    "        \n",
    "print(\"--- %s seconds ---\" % (time.time() - start_time))"
   ]
  },
  {
   "cell_type": "code",
   "execution_count": 134,
   "metadata": {},
   "outputs": [
    {
     "name": "stdout",
     "output_type": "stream",
     "text": [
      "Load DSL Helper Functions (Objects)\n",
      "--- 0.002131938934326172 seconds ---\n"
     ]
    }
   ],
   "source": [
    "start_time = time.time()\n",
    "print(\"Load DSL Helper Functions (Objects)\")\n",
    "\n",
    "# Separate Objects by Color\n",
    "def object_color(task):\n",
    "    \n",
    "    # List of Objects\n",
    "    object_list = []\n",
    "    task_copy = task.copy()\n",
    "    struct = generate_binary_structure(2, 2)\n",
    "    \n",
    "    # Ensure Colors != Background\n",
    "    task_colors = np.unique(task_copy)\n",
    "    bg_color = get_background_color(task_copy)\n",
    "    task_colors = [col for col in task_colors if col != bg_color]\n",
    "    \n",
    "    # Find Objects\n",
    "    for color in task_colors:\n",
    "        labels, num_labels = label((task_copy == color), structure=struct)\n",
    "        idx = np.column_stack(np.where(labels != 0))\n",
    "        x_min = min([point[0] for point in idx])\n",
    "        y_min = min([point[1] for point in idx])\n",
    "        x_max = max([point[0] for point in idx])\n",
    "        y_max = max([point[1] for point in idx])\n",
    "        \n",
    "        object_data = {}\n",
    "        object_data['obj'] = task_copy[x_min: x_max + 1, y_min: y_max + 1]\n",
    "        object_data['coords'] = ((x_min, x_max), (y_min, y_max))\n",
    "        object_data = object_attributes(object_data)\n",
    "        list.append(object_list, object_data)\n",
    "\n",
    "    output_data = []\n",
    "    for object_data in object_list:\n",
    "        object_data = object_relative_attributes(object_data, object_list)\n",
    "        list.append(output_data, object_data)\n",
    "        \n",
    "    return output_data\n",
    "       \n",
    "# Separate Objects by Distance\n",
    "def object_spatial(task):\n",
    "    \n",
    "    # List of Objects\n",
    "    object_list = []\n",
    "    task_copy = task.copy()\n",
    "    struct = generate_binary_structure(2, 2)\n",
    "    \n",
    "    # Ensure Colors != Background\n",
    "    task_colors = np.unique(task_copy)\n",
    "    bg_color = get_background_color(task_copy)\n",
    "    task_colors = [col for col in task_colors if col != bg_color]\n",
    "    labels, num_labels = label((task_copy != 0), structure=struct)\n",
    "\n",
    "    for i in range(0, num_labels):\n",
    "        idx = np.column_stack(np.where(labels == i + 1))\n",
    "        x_min = min([point[0] for point in idx])\n",
    "        y_min = min([point[1] for point in idx])\n",
    "        x_max = max([point[0] for point in idx])\n",
    "        y_max = max([point[1] for point in idx])\n",
    "        \n",
    "        object_data = {}\n",
    "        object_data['obj'] = task_copy[x_min: x_max + 1, y_min: y_max + 1]\n",
    "        object_data['coords'] = ((x_min, x_max), (y_min, y_max))\n",
    "        object_data = object_attributes(object_data)\n",
    "        list.append(object_list, object_data)\n",
    "\n",
    "    output_data = []\n",
    "    for object_data in object_list:\n",
    "        object_data = object_relative_attributes(object_data, object_list)\n",
    "        list.append(output_data, object_data)\n",
    "        \n",
    "    return output_data\n",
    "\n",
    "def object_difference(task):\n",
    "    \n",
    "    \n",
    "\n",
    "print(\"--- %s seconds ---\" % (time.time() - start_time))"
   ]
  },
  {
   "cell_type": "code",
   "execution_count": 131,
   "metadata": {},
   "outputs": [
    {
     "name": "stdout",
     "output_type": "stream",
     "text": [
      "Testing DSL Coverage (Manual) ...\n",
      "--- 0.23723411560058594 seconds ---\n"
     ]
    },
    {
     "data": {
      "image/png": "[encoded data removed]",
      "text/plain": [
       "<Figure size 600x600 with 9 Axes>"
      ]
     },
     "metadata": {
      "needs_background": "light"
     },
     "output_type": "display_data"
    }
   ],
   "source": [
    "start_time = time.time()\n",
    "print(\"Testing DSL Coverage (Manual) ...\")\n",
    "\n",
    "def combine_tasks(a, features):\n",
    "    b = a.copy()\n",
    "    b_color = object_color(b)\n",
    "    b_spatial = object_spatial(b)\n",
    "    return b\n",
    "\n",
    "tasks_indices = [9]\n",
    "for task in tasks_indices:\n",
    "    check_p(train_task_data[task], combine_tasks)\n",
    "\n",
    "print(\"--- %s seconds ---\" % (time.time() - start_time))"
   ]
  }
 ],
 "metadata": {
  "kernelspec": {
   "display_name": "Python 3",
   "language": "python",
   "name": "python3"
  },
  "language_info": {
   "codemirror_mode": {
    "name": "ipython",
    "version": 3
   },
   "file_extension": ".py",
   "mimetype": "text/x-python",
   "name": "python",
   "nbconvert_exporter": "python",
   "pygments_lexer": "ipython3",
   "version": "3.7.1"
  }
 },
 "nbformat": 4,
 "nbformat_minor": 2
}
